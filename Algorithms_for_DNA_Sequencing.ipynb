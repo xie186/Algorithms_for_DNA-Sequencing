{
  "nbformat": 4,
  "nbformat_minor": 0,
  "metadata": {
    "colab": {
      "name": "Algorithms_for_DNA Sequencing.ipynb",
      "provenance": [],
      "toc_visible": true,
      "authorship_tag": "ABX9TyNQUgs8KCzOWqzE+d8JghdP",
      "include_colab_link": true
    },
    "kernelspec": {
      "name": "python3",
      "display_name": "Python 3"
    }
  },
  "cells": [
    {
      "cell_type": "markdown",
      "metadata": {
        "id": "view-in-github",
        "colab_type": "text"
      },
      "source": [
        "<a href=\"https://colab.research.google.com/github/xie186/Algorithms_for_DNA-Sequencing/blob/main/Algorithms_for_DNA_Sequencing.ipynb\" target=\"_parent\"><img src=\"https://colab.research.google.com/assets/colab-badge.svg\" alt=\"Open In Colab\"/></a>"
      ]
    },
    {
      "cell_type": "code",
      "metadata": {
        "id": "3QWthScNM_Qu"
      },
      "source": [
        ""
      ],
      "execution_count": null,
      "outputs": []
    },
    {
      "cell_type": "markdown",
      "metadata": {
        "id": "t-Vrd-XWNDQ6"
      },
      "source": [
        "# Week1 "
      ]
    },
    {
      "cell_type": "markdown",
      "metadata": {
        "id": "g6FsMCNYNILz"
      },
      "source": [
        "## Welcome to Algorithms for DNA Sequencing\n",
        "\n",
        "Welcome to Algorithms for DNA Sequencing!\n",
        "\n",
        "This module we begin our exploration of algorithms for analyzing DNA sequencing data. We'll discuss DNA sequencing technology, its past and present, and how it works. We'll learn more about DNA and genomes and we'll make the connection that a DNA molecule can be represented as a string of characters. This observation is the key that unlocks the entire rest of the course! It allows us to take methods from computer science that were invented to work with generic strings (web pages, books, files on your hard drive) and apply them to DNA.\n",
        "\n",
        "We will also define the two computational problems that motivate our technical discussions for the rest of the course. The read alignment problem and theassembly problem. The rest of the course is divided into halves where we will discuss foundational algorithms and data structures for those two crucial problems.\n",
        "\n",
        "In the practical sessions and homeworks, you will be working with real genomes and real sequencing data, including some human data. And you will start to write software to analyze them. You will learn how to work with important file formats like FASTA and FASTQ, and you will look for some basic patterns in that sequencing data. Finally, we will discuss the naive exact matching algorithm a simple, flexible, but not very fast algorithm for finding patterns in text. Next module we'll discuss algorithms that are a bit more clever, and see some new data structures as well.\n",
        "\n",
        "Your first two assignments, Programming Homework 1 and the Module 1 Quiz are due this week. Please also be sure to read the syllabus for all of the details about course logistics.\n",
        "\n",
        "Ben & Jacob"
      ]
    },
    {
      "cell_type": "markdown",
      "metadata": {
        "id": "nueHoDOzNEVI"
      },
      "source": [
        "Course Content\n",
        "Module 1: DNA sequencing, strings and matching: Why study this? DNA sequencers and how they work. How DNA can be represented as a string. Using Python to parse and manipulate real genome sequences and real DNA sequencing data.  Naive exact matching.\n",
        "\n",
        "Module 2: Preprocessing, indexing and approximate matching: Improving on naive exact matching with Boyer-Moore.  Preprocessing and indexing.  Indexing: grouping and ordering.  k-mers and k-mer indexes.  Approximate matching and the pigeonhole principle.\n",
        "\n",
        "Module 3: Edit distance, assembly, overlaps: Hamming and edit distance. Algorithms for computing edit distance. Dynamic programming. Global and local alignment. De novo assembly. Overlaps and overlap graphs.\n",
        "\n",
        "Module 4: Algorithms for assembly: Shortest common superstring and the greedy version. How repetitive DNA makes assembly difficult. De Bruijn graphs and Eulerian walks. How real assemblers work. The future of assembly. Wrap up."
      ]
    },
    {
      "cell_type": "markdown",
      "metadata": {
        "id": "D8ITcYKLNDWE"
      },
      "source": [
        "Using data files with Python programs\n",
        "\n",
        "In practical sessions and programming assignments, you will sometimes work with data files we provide.  These might be reference genomes in FASTA format (e.g. lambda_virus.fa), sequencing reads in FASTQ format (e.g. SRR835775_1.first1000.fastq), or Python modules (e.g. kmer_index.py).  To use a file with your Python code, you have to (a) download the file to the same computer as your Python program; use a web browser or a command-line tool like wget or curl to download it, then (b) put the file in the same directory with your Python program.  Then you can open it from your Python program using the Python open function.\n",
        "\n",
        "If you use Jupyter, another way to do this (which we use in the practical sessions) is with a command that starts with !wget.  This is a shell command.  But if you are using try.jupyter.org note that the !wget command will not work (\"unable to resolve host address\").  In this case, we recommend you either (a) use www.wakari.io instead, or (b) use the \"upload\" button in the try.jupyter.org interface to upload the file to the server, then skip the command that begins with !wget.\n",
        "\n",
        "Best,\n"
      ]
    },
    {
      "cell_type": "markdown",
      "metadata": {
        "id": "J_4pv1vkNDbF"
      },
      "source": [
        ""
      ]
    },
    {
      "cell_type": "code",
      "metadata": {
        "id": "y8kMvRkPPa17"
      },
      "source": [
        ""
      ],
      "execution_count": null,
      "outputs": []
    },
    {
      "cell_type": "markdown",
      "metadata": {
        "id": "OBVa85iXP0GQ"
      },
      "source": [
        "## An implementation of the naive exact matching algorithm:"
      ]
    },
    {
      "cell_type": "code",
      "metadata": {
        "id": "_WJpyGz9PcmP"
      },
      "source": [
        "# naive exact matching algorithm\n",
        "# Returns a list of occurrences (offset)\n",
        "def naive(p, t):\n",
        "    occurrences = []\n",
        "    for i in range(len(t) - len(p) + 1):  # loop over alignments\n",
        "        match = True\n",
        "        for j in range(len(p)):  # loop over characters\n",
        "            if t[i+j] != p[j]:  # compare characters\n",
        "                match = False\n",
        "                break\n",
        "        if match:\n",
        "            occurrences.append(i)  # all chars matched; record\n",
        "    return occurrences"
      ],
      "execution_count": null,
      "outputs": []
    },
    {
      "cell_type": "code",
      "metadata": {
        "colab": {
          "base_uri": "https://localhost:8080/"
        },
        "id": "zukxrwtxP5Qw",
        "outputId": "e3c41cff-57cf-4f4d-d642-59e6a542531f"
      },
      "source": [
        "p = \"ACGT\"\n",
        "ref = \"ACGTTCAGACGT\"\n",
        "naive(p, ref)"
      ],
      "execution_count": null,
      "outputs": [
        {
          "output_type": "execute_result",
          "data": {
            "text/plain": [
              "[0, 8]"
            ]
          },
          "metadata": {
            "tags": []
          },
          "execution_count": 3
        }
      ]
    },
    {
      "cell_type": "markdown",
      "metadata": {
        "id": "g2egjYcjQHTH"
      },
      "source": [
        "## Takes a DNA string and returns its reverse complement:\n"
      ]
    },
    {
      "cell_type": "code",
      "metadata": {
        "id": "upi0EfSjPvOr"
      },
      "source": [
        "def reverseComplement(s):\n",
        "    complement = {'A': 'T', 'C': 'G', 'G': 'C', 'T': 'A', 'N': 'N'}\n",
        "    t = ''\n",
        "    for base in s:\n",
        "        t = complement[base] + t\n",
        "    return t\n"
      ],
      "execution_count": null,
      "outputs": []
    },
    {
      "cell_type": "code",
      "metadata": {
        "colab": {
          "base_uri": "https://localhost:8080/",
          "height": 35
        },
        "id": "VDDKUwlhQO8q",
        "outputId": "b53bd789-2e90-4b21-e0c4-431f90d0679b"
      },
      "source": [
        "p = \"ACGT\"\n",
        "reverseComplement(p)"
      ],
      "execution_count": null,
      "outputs": [
        {
          "output_type": "execute_result",
          "data": {
            "application/vnd.google.colaboratory.intrinsic+json": {
              "type": "string"
            },
            "text/plain": [
              "'ACGT'"
            ]
          },
          "metadata": {
            "tags": []
          },
          "execution_count": 6
        }
      ]
    },
    {
      "cell_type": "markdown",
      "metadata": {
        "id": "MLP3Of9iQaBg"
      },
      "source": [
        ""
      ]
    },
    {
      "cell_type": "markdown",
      "metadata": {
        "id": "mPNkRgo2QY6P"
      },
      "source": [
        ""
      ]
    },
    {
      "cell_type": "code",
      "metadata": {
        "id": "BUadno5IQfy4"
      },
      "source": [
        "def readGenome(filename):\n",
        "    genome = ''\n",
        "    with open(filename, 'r') as f:\n",
        "        for line in f:\n",
        "            # ignore header line with genome information\n",
        "            if not line[0] == '>':\n",
        "                genome += line.rstrip()\n",
        "    return genome"
      ],
      "execution_count": null,
      "outputs": []
    },
    {
      "cell_type": "markdown",
      "metadata": {
        "id": "lgchrttBQ8Kp"
      },
      "source": [
        "## Programming homework 1"
      ]
    },
    {
      "cell_type": "code",
      "metadata": {
        "colab": {
          "base_uri": "https://localhost:8080/"
        },
        "id": "D1f-NRGIRNBq",
        "outputId": "ab7c3ab5-9de9-49ec-f814-04c459fce8ec"
      },
      "source": [
        "# Phi-X genome\n",
        "!wget --no-check https://d28rh4a8wq0iu5.cloudfront.net/ads1/data/lambda_virus.fa\n"
      ],
      "execution_count": null,
      "outputs": [
        {
          "output_type": "stream",
          "text": [
            "--2020-11-26 22:01:49--  https://d28rh4a8wq0iu5.cloudfront.net/ads1/data/lambda_virus.fa\n",
            "Resolving d28rh4a8wq0iu5.cloudfront.net (d28rh4a8wq0iu5.cloudfront.net)... 54.192.19.127, 54.192.19.137, 54.192.19.199, ...\n",
            "Connecting to d28rh4a8wq0iu5.cloudfront.net (d28rh4a8wq0iu5.cloudfront.net)|54.192.19.127|:443... connected.\n",
            "HTTP request sent, awaiting response... 200 OK\n",
            "Length: 49270 (48K) [application/octet-stream]\n",
            "Saving to: ‘lambda_virus.fa’\n",
            "\n",
            "lambda_virus.fa     100%[===================>]  48.12K   205KB/s    in 0.2s    \n",
            "\n",
            "2020-11-26 22:01:51 (205 KB/s) - ‘lambda_virus.fa’ saved [49270/49270]\n",
            "\n"
          ],
          "name": "stdout"
        }
      ]
    },
    {
      "cell_type": "code",
      "metadata": {
        "id": "pPkMN7fiRTFP"
      },
      "source": [
        "phix_genome = readGenome('lambda_virus.fa')"
      ],
      "execution_count": null,
      "outputs": []
    },
    {
      "cell_type": "code",
      "metadata": {
        "id": "U6f7JDN_R7Sg"
      },
      "source": [
        "# naive exact matching algorithm that is strand-aware\n",
        "# Instead of looking only for occurrences of P in T, additionally look for occurrences of the reverse complement of P in T. \n",
        "def naive_with_rc(p, t):\n",
        "\tr = reverseComplement(p)\n",
        "\tif r == p:\n",
        "\t\treturn naive(p,t)\n",
        "\telse:\n",
        "\t\treturn naive(p,t) + naive(r,t)"
      ],
      "execution_count": null,
      "outputs": []
    },
    {
      "cell_type": "markdown",
      "metadata": {
        "id": "XVCWo_YgjMes"
      },
      "source": [
        "### Question 1:\n",
        "\n",
        "How many times does \\verb|AGGT|AGGT or its reverse complement (\\verb|ACCT|ACCT) occur in the lambda virus genome? E.g. if \\verb|AGGT|AGGT occurs 10 times and \\verb|ACCT|ACCT occurs 12 times, you should report 22."
      ]
    },
    {
      "cell_type": "code",
      "metadata": {
        "colab": {
          "base_uri": "https://localhost:8080/"
        },
        "id": "c0_qhvCjkEP3",
        "outputId": "552127cc-8453-41fa-910c-5d6c1a77d4ef"
      },
      "source": [
        "len(phix_genome)"
      ],
      "execution_count": null,
      "outputs": [
        {
          "output_type": "execute_result",
          "data": {
            "text/plain": [
              "48502"
            ]
          },
          "metadata": {
            "tags": []
          },
          "execution_count": 98
        }
      ]
    },
    {
      "cell_type": "code",
      "metadata": {
        "colab": {
          "base_uri": "https://localhost:8080/"
        },
        "id": "MgQxybpASHO0",
        "outputId": "64cf4084-881a-4815-8fb5-06aec9c01020"
      },
      "source": [
        "len(naive_with_rc(\"AGGT\", phix_genome))"
      ],
      "execution_count": null,
      "outputs": [
        {
          "output_type": "execute_result",
          "data": {
            "text/plain": [
              "306"
            ]
          },
          "metadata": {
            "tags": []
          },
          "execution_count": 99
        }
      ]
    },
    {
      "cell_type": "markdown",
      "metadata": {
        "id": "WDl7Nj1xjXS6"
      },
      "source": [
        "### Question 2\n",
        "\n",
        "How many times does \\verb|TTAA|TTAA or its reverse complement occur in the lambda virus genome?\n",
        "\n",
        "Hint: \\verb|TTAA|TTAA and its reverse complement are equal, so remember not to double count."
      ]
    },
    {
      "cell_type": "code",
      "metadata": {
        "colab": {
          "base_uri": "https://localhost:8080/"
        },
        "id": "8PvV6TgwSZRw",
        "outputId": "d628887c-a236-4dcb-bc06-11f909624f44"
      },
      "source": [
        "\n",
        "len(naive_with_rc(\"TTAA\", phix_genome))"
      ],
      "execution_count": null,
      "outputs": [
        {
          "output_type": "execute_result",
          "data": {
            "text/plain": [
              "195"
            ]
          },
          "metadata": {
            "tags": []
          },
          "execution_count": 100
        }
      ]
    },
    {
      "cell_type": "markdown",
      "metadata": {
        "id": "-ZXFASpQTbtR"
      },
      "source": [
        "### Question 3\n",
        " \n",
        " What is the offset of the leftmost occurrence of \\verb|ACTAAGT|ACTAAGT or its reverse complement in the Lambda virus genome? E.g. if the leftmost occurrence of \\verb|ACTAAGT|ACTAAGT is at offset 40 (0-based) and the leftmost occurrence of its reverse complement \\verb|ACTTAGT|ACTTAGT is at offset 29, then report 29.\n"
      ]
    },
    {
      "cell_type": "code",
      "metadata": {
        "colab": {
          "base_uri": "https://localhost:8080/"
        },
        "id": "IkvHY4gQSp3Y",
        "outputId": "00ade650-33aa-41ba-ee2c-7fea97c8d841"
      },
      "source": [
        "naive_with_rc(\"ACTAAGT\", phix_genome)"
      ],
      "execution_count": null,
      "outputs": [
        {
          "output_type": "execute_result",
          "data": {
            "text/plain": [
              "[27733, 45382, 26028]"
            ]
          },
          "metadata": {
            "tags": []
          },
          "execution_count": 101
        }
      ]
    },
    {
      "cell_type": "markdown",
      "metadata": {
        "id": "hlD8ciCATXzJ"
      },
      "source": [
        "### Question 4 \n",
        "What is the offset of the leftmost occurrence of \\verb|AGTCGA|AGTCGA or its reverse complement in the Lambda virus genome?\n"
      ]
    },
    {
      "cell_type": "code",
      "metadata": {
        "colab": {
          "base_uri": "https://localhost:8080/"
        },
        "id": "tDnG9D0aS03j",
        "outputId": "11d93e8d-269e-45dd-83fb-437b74331d14"
      },
      "source": [
        "naive_with_rc(\"AGTCGA\", phix_genome)"
      ],
      "execution_count": null,
      "outputs": [
        {
          "output_type": "execute_result",
          "data": {
            "text/plain": [
              "[18005, 23320, 33657, 44806, 450, 1908, 2472, 41927, 45369]"
            ]
          },
          "metadata": {
            "tags": []
          },
          "execution_count": 102
        }
      ]
    },
    {
      "cell_type": "code",
      "metadata": {
        "colab": {
          "base_uri": "https://localhost:8080/"
        },
        "id": "gQAe3aZHlNHD",
        "outputId": "fc69a13b-7945-46e4-989a-c06e7da2e90f"
      },
      "source": [
        "min(naive_with_rc(\"AGTCGA\", phix_genome))"
      ],
      "execution_count": null,
      "outputs": [
        {
          "output_type": "execute_result",
          "data": {
            "text/plain": [
              "450"
            ]
          },
          "metadata": {
            "tags": []
          },
          "execution_count": 103
        }
      ]
    },
    {
      "cell_type": "code",
      "metadata": {
        "id": "blSbtXjHTSRi"
      },
      "source": [
        "### Question 5 \n",
        "As we will discuss, sometimes we would like to find approximate matches for P in T. That is, we want to find occurrences with one or more differences.\n",
        "\n",
        "For Questions 5 and 6, make a new version of the \\verb|naive|naive function called \\verb|naive_2mm|naive_2mm that allows up to 2 mismatches per occurrence. Unlike for the previous questions, do not consider the reverse complement here. We're looking for approximate matches for P itself, not its reverse complement.\n",
        "\n",
        "￼\n",
        "\n",
        "For example, \\verb|ACTTTA|ACTTTA occurs twice in \\verb|ACTTACTTGATAAAGT|ACTTACTTGATAAAGT, once at offset 0 with 2 mismatches, and once at offset 4 with 1 mismatch. So \\verb|naive_2mm('ACTTTA', 'ACTTACTTGATAAAGT')|naive_2mm(’ACTTTA’, ’ACTTACTTGATAAAGT’) should return the list \\verb|[0, 4]|[0, 4]."
      ],
      "execution_count": null,
      "outputs": []
    },
    {
      "cell_type": "code",
      "metadata": {
        "id": "5JyWVoCYTn8H"
      },
      "source": [
        "\n",
        "def naive_2mm(p, t):\n",
        "    \"\"\"\n",
        "    Naive exact matching algorithm\n",
        "    Neturns a list of occurrences (offset)\n",
        "    \"\"\"\n",
        "    occurrences = []\n",
        "    for i in range(len(t) - len(p) + 1):  # loop over alignments\n",
        "        match = True\n",
        "        mismatch_count = 0\n",
        "        for j in range(len(p)):  # loop over characters\n",
        "            if t[i+j] != p[j]:  # compare characters\n",
        "                mismatch_count+=1\n",
        "\n",
        "                if mismatch_count > 2:\n",
        "                \tmatch = False\n",
        "                \tbreak\n",
        "        if match:\n",
        "            occurrences.append(i)  # all chars matched; record\n",
        "    return occurrences"
      ],
      "execution_count": null,
      "outputs": []
    },
    {
      "cell_type": "code",
      "metadata": {
        "colab": {
          "base_uri": "https://localhost:8080/"
        },
        "id": "AKGo7hqqTx7a",
        "outputId": "6fd90cfa-6a5d-4cd1-a219-6fc99ef4eb32"
      },
      "source": [
        "len(naive_2mm(\"TTCAAGCC\", phix_genome))"
      ],
      "execution_count": null,
      "outputs": [
        {
          "output_type": "execute_result",
          "data": {
            "text/plain": [
              "191"
            ]
          },
          "metadata": {
            "tags": []
          },
          "execution_count": 104
        }
      ]
    },
    {
      "cell_type": "markdown",
      "metadata": {
        "id": "kfyQG2iJT82a"
      },
      "source": [
        "### Question 6\n",
        "\n",
        "What is the offset of the leftmost occurrence of \\verb|AGGAGGTT|AGGAGGTT in the Lambda virus genome when allowing up to 2 mismatches?"
      ]
    },
    {
      "cell_type": "code",
      "metadata": {
        "colab": {
          "base_uri": "https://localhost:8080/"
        },
        "id": "E8zcdQVkT7nx",
        "outputId": "1331ed19-c2d7-49cc-ae31-13e6f8f3091d"
      },
      "source": [
        "\n",
        "naive_2mm(\"AGGAGGTT\", phix_genome)"
      ],
      "execution_count": null,
      "outputs": [
        {
          "output_type": "execute_result",
          "data": {
            "text/plain": [
              "49"
            ]
          },
          "metadata": {
            "tags": []
          },
          "execution_count": 105
        }
      ]
    },
    {
      "cell_type": "markdown",
      "metadata": {
        "id": "IKO-qHd1UKd3"
      },
      "source": [
        "### Question 7\n",
        "\n",
        "Finally, download and parse the provided FASTQ file containing real DNA sequencing reads derived from a human:\n",
        "\n",
        "https://d28rh4a8wq0iu5.cloudfront.net/ads1/data/ERR037900_1.first1000.fastq\n",
        "\n",
        "Note that the file has many reads in it and you should examine all of them together when answering this question. The reads are taken from this study:\n",
        "\n",
        "Ajay, S. S., Parker, S. C., Abaan, H. O., Fajardo, K. V. F., & Margulies, E. H. (2011). Accurate\n",
        "\n",
        "and comprehensive sequencing of personal genomes. Genome research, 21(9), 1498-1505.\n",
        "\n",
        "This dataset has something wrong with it; one of the sequencing cycles is poor quality.\n",
        "\n",
        "Report which sequencing cycle has the problem. Remember that a sequencing cycle corresponds to a particular offset in all the reads. For example, if the leftmost read position seems to have a problem consistently across reads, report 0. If the fourth position from the left has the problem, report 3. Do whatever analysis you think is needed to identify the bad cycle. It might help to review the \"Analyzing reads by position\" video.\n",
        "\n",
        "1 point\n"
      ]
    },
    {
      "cell_type": "markdown",
      "metadata": {
        "id": "OgKrKpD8TTOf"
      },
      "source": [
        ""
      ]
    },
    {
      "cell_type": "code",
      "metadata": {
        "colab": {
          "base_uri": "https://localhost:8080/"
        },
        "id": "siPlEye1UTnz",
        "outputId": "aa1e5fed-21c9-4420-b10c-8eb2400f6a94"
      },
      "source": [
        "!wget https://d28rh4a8wq0iu5.cloudfront.net/ads1/data/ERR037900_1.first1000.fastq"
      ],
      "execution_count": null,
      "outputs": [
        {
          "output_type": "stream",
          "text": [
            "--2020-11-26 20:49:18--  https://d28rh4a8wq0iu5.cloudfront.net/ads1/data/ERR037900_1.first1000.fastq\n",
            "Resolving d28rh4a8wq0iu5.cloudfront.net (d28rh4a8wq0iu5.cloudfront.net)... 54.192.19.127, 54.192.19.199, 54.192.19.103, ...\n",
            "Connecting to d28rh4a8wq0iu5.cloudfront.net (d28rh4a8wq0iu5.cloudfront.net)|54.192.19.127|:443... connected.\n",
            "HTTP request sent, awaiting response... 200 OK\n",
            "Length: 241626 (236K) [application/octet-stream]\n",
            "Saving to: ‘ERR037900_1.first1000.fastq’\n",
            "\n",
            "ERR037900_1.first10 100%[===================>] 235.96K   395KB/s    in 0.6s    \n",
            "\n",
            "2020-11-26 20:49:20 (395 KB/s) - ‘ERR037900_1.first1000.fastq’ saved [241626/241626]\n",
            "\n"
          ],
          "name": "stdout"
        }
      ]
    },
    {
      "cell_type": "code",
      "metadata": {
        "id": "TeOkV_LLUuWg"
      },
      "source": [
        "\n",
        "def readFastq(filename):\n",
        "    \"\"\"\n",
        "    Read fastq files\n",
        "    \"\"\"\n",
        "    seqs = []\n",
        "    quals = []\n",
        "    with open(filename) as fh:\n",
        "        while True:\n",
        "            fh.readline()  # skip name line\n",
        "            seq = fh.readline().rstrip()  # read base sequence\n",
        "            fh.readline()  # skip placeholder line\n",
        "            qual = fh.readline().rstrip() # base quality line\n",
        "            if len(seq) == 0:\n",
        "                break\n",
        "            seqs.append(seq)\n",
        "            quals.append(qual)\n",
        "    return seqs, quals"
      ],
      "execution_count": null,
      "outputs": []
    },
    {
      "cell_type": "code",
      "metadata": {
        "id": "59YI76vSUrQK"
      },
      "source": [
        "sequences, base_quals = readFastq('ERR037900_1.first1000.fastq')\n"
      ],
      "execution_count": null,
      "outputs": []
    },
    {
      "cell_type": "code",
      "metadata": {
        "colab": {
          "base_uri": "https://localhost:8080/"
        },
        "id": "15a8hzk4VwHr",
        "outputId": "de590619-7a55-4092-c00e-affca307f96e"
      },
      "source": [
        "len(sequences[1])"
      ],
      "execution_count": null,
      "outputs": [
        {
          "output_type": "execute_result",
          "data": {
            "text/plain": [
              "100"
            ]
          },
          "metadata": {
            "tags": []
          },
          "execution_count": 33
        }
      ]
    },
    {
      "cell_type": "code",
      "metadata": {
        "colab": {
          "base_uri": "https://localhost:8080/"
        },
        "id": "gcPR7DPyVTlh",
        "outputId": "3dc4ccb5-1b24-4a7b-cd55-86693c58d7b7"
      },
      "source": [
        "base_quals[0:2]\n",
        "\n"
      ],
      "execution_count": null,
      "outputs": [
        {
          "output_type": "execute_result",
          "data": {
            "text/plain": [
              "['HHHHHHHHHHHHHHHHHHHHHHHHHHHHHHHHHHHHHHHHHHHGFHHHFHFFHHHHHGHHFHEH@4#55554455HGFBF<@C>7EEF@FBEDDD<=C<E',\n",
              " 'HHHHHHHHHHHHHHHHHHHHHHHHHHHHHHHHHHHHHHHHHHHHHHHHHHHHHHHHCHHHHEHHBA#C>@54455C/7=CGHEGEB;C############']"
            ]
          },
          "metadata": {
            "tags": []
          },
          "execution_count": 32
        }
      ]
    },
    {
      "cell_type": "code",
      "metadata": {
        "colab": {
          "base_uri": "https://localhost:8080/"
        },
        "id": "CDZn_C7WXExw",
        "outputId": "7e59c752-8479-42af-c7f4-d0920f9feb53"
      },
      "source": [
        ""
      ],
      "execution_count": null,
      "outputs": [
        {
          "output_type": "stream",
          "text": [
            "0\n",
            "1\n",
            "2\n",
            "3\n",
            "4\n",
            "5\n",
            "6\n",
            "7\n",
            "8\n"
          ],
          "name": "stdout"
        }
      ]
    },
    {
      "cell_type": "code",
      "metadata": {
        "id": "BvKw3MgPW4HZ"
      },
      "source": [
        "def averageQuals(quals):\n",
        "    counter = {}\n",
        "    qual_sum = {}\n",
        "    average_qual = {}\n",
        "    for qual in quals:\n",
        "        for i in range(len(qual)):\n",
        "            base_qual = qual[i]\n",
        "            phred_score = ord(base_qual) - 33\n",
        "            #print(phred_score)\n",
        "            if i not in qual_sum:\n",
        "                qual_sum[i] = phred_score\n",
        "            else:\n",
        "                qual_sum[i] += phred_score\n",
        "            if i not in counter:\n",
        "                counter[i] = 1\n",
        "            else:\n",
        "                counter[i] += 1\n",
        "    for ele in qual_sum:\n",
        "        #print(\"%d %d  %d\" % (ele, qual_sum[ele], counter[ele]))\n",
        "        average_qual[ele] = qual_sum[ele]/counter[ele]\n",
        "    return average_qual\n",
        "             \n",
        "\n"
      ],
      "execution_count": null,
      "outputs": []
    },
    {
      "cell_type": "code",
      "metadata": {
        "id": "ngsh5P66YhOb"
      },
      "source": [
        "average_qual = averageQuals(base_quals)\n"
      ],
      "execution_count": null,
      "outputs": []
    },
    {
      "cell_type": "code",
      "metadata": {
        "id": "Z7byMxS2bPRD"
      },
      "source": [
        "import matplotlib.pyplot as plt\n"
      ],
      "execution_count": null,
      "outputs": []
    },
    {
      "cell_type": "code",
      "metadata": {
        "colab": {
          "base_uri": "https://localhost:8080/"
        },
        "id": "z9y-Suuneq2a",
        "outputId": "e7a6cda9-22f4-49be-c1b2-cddefa2bc238"
      },
      "source": [
        "\n",
        "average_qual.values()"
      ],
      "execution_count": null,
      "outputs": [
        {
          "output_type": "execute_result",
          "data": {
            "text/plain": [
              "dict_values([38.435, 38.46, 38.4, 38.428, 38.417, 38.382, 38.362, 38.364, 38.325, 38.343, 38.194, 38.154, 38.089, 38.152, 38.153, 38.099, 38.055, 38.041, 38.067, 38.15, 38.087, 37.989, 38.009, 37.909, 38.028, 37.576, 37.514, 37.503, 37.578, 37.552, 37.629, 37.555, 37.548, 37.433, 37.402, 37.343, 37.198, 37.126, 37.158, 36.904, 36.742, 36.677, 36.645, 36.493, 36.509, 36.375, 36.205, 35.974, 35.847, 35.673, 34.832, 34.739, 34.399, 34.402, 34.025, 33.025, 32.882, 32.741, 32.573, 32.224, 30.805, 30.666, 30.343, 30.131, 29.463, 17.891, 4.526, 17.881, 17.865, 17.852, 17.466, 17.131, 17.134, 17.098, 16.852, 23.745, 23.958, 23.221, 22.902, 22.366, 20.904, 20.584, 20.383, 19.767, 19.095, 18.061, 17.757, 17.152, 16.972, 16.286, 14.811, 14.679, 14.31, 14.152, 13.734, 12.538, 12.278, 12.179, 11.676, 11.561])"
            ]
          },
          "metadata": {
            "tags": []
          },
          "execution_count": 77
        }
      ]
    },
    {
      "cell_type": "code",
      "metadata": {
        "colab": {
          "base_uri": "https://localhost:8080/"
        },
        "id": "SY8_zot7YxxK",
        "outputId": "e758fab7-de62-4cc4-ccec-785c601385e0"
      },
      "source": [
        "\n",
        "average_qual.keys()"
      ],
      "execution_count": null,
      "outputs": [
        {
          "output_type": "execute_result",
          "data": {
            "text/plain": [
              "dict_keys([0, 1, 2, 3, 4, 5, 6, 7, 8, 9, 10, 11, 12, 13, 14, 15, 16, 17, 18, 19, 20, 21, 22, 23, 24, 25, 26, 27, 28, 29, 30, 31, 32, 33, 34, 35, 36, 37, 38, 39, 40, 41, 42, 43, 44, 45, 46, 47, 48, 49, 50, 51, 52, 53, 54, 55, 56, 57, 58, 59, 60, 61, 62, 63, 64, 65, 66, 67, 68, 69, 70, 71, 72, 73, 74, 75, 76, 77, 78, 79, 80, 81, 82, 83, 84, 85, 86, 87, 88, 89, 90, 91, 92, 93, 94, 95, 96, 97, 98, 99])"
            ]
          },
          "metadata": {
            "tags": []
          },
          "execution_count": 78
        }
      ]
    },
    {
      "cell_type": "code",
      "metadata": {
        "colab": {
          "base_uri": "https://localhost:8080/",
          "height": 285
        },
        "id": "ApeoKujMek85",
        "outputId": "c1b87e3f-4ca5-438d-89bc-3ebeb9716ac9"
      },
      "source": [
        "plt.plot(list(average_qual.keys()),  list(average_qual.values()))\n"
      ],
      "execution_count": null,
      "outputs": [
        {
          "output_type": "execute_result",
          "data": {
            "text/plain": [
              "[<matplotlib.lines.Line2D at 0x7fac9b5aad68>]"
            ]
          },
          "metadata": {
            "tags": []
          },
          "execution_count": 81
        },
        {
          "output_type": "display_data",
          "data": {
            "image/png": "[encoded data removed]",
            "text/plain": [
              "<Figure size 432x288 with 1 Axes>"
            ]
          },
          "metadata": {
            "tags": [],
            "needs_background": "light"
          }
        }
      ]
    },
    {
      "cell_type": "code",
      "metadata": {
        "colab": {
          "base_uri": "https://localhost:8080/"
        },
        "id": "hAWVK8PAfW2F",
        "outputId": "d51067c8-f752-461d-e36e-39530d37c393"
      },
      "source": [
        "average_qual[66]"
      ],
      "execution_count": null,
      "outputs": [
        {
          "output_type": "execute_result",
          "data": {
            "text/plain": [
              "4.526"
            ]
          },
          "metadata": {
            "tags": []
          },
          "execution_count": 106
        }
      ]
    },
    {
      "cell_type": "markdown",
      "metadata": {
        "id": "3LzCYzUIlkKH"
      },
      "source": [
        "# Week3 \n",
        "\n",
        "## Hamming Distance and edit distance\n",
        "\n",
        "editDistance()"
      ]
    },
    {
      "cell_type": "markdown",
      "metadata": {
        "id": "06M9PQI-l8K5"
      },
      "source": [
        "\n",
        "## Read alignment in the field\n",
        "\n",
        "Index acts as a filtering. \n",
        "\n",
        "\n",
        "Small set of needdles."
      ]
    },
    {
      "cell_type": "markdown",
      "metadata": {
        "id": "2xxCjac2mX-S"
      },
      "source": [
        "Index and dynamic programming cover each other's flaw.\n",
        "\n",
        "Index doesn't deal with mismatches\n",
        "\n",
        "Dynaminal program cann't handle big matrix.\n"
      ]
    },
    {
      "cell_type": "markdown",
      "metadata": {
        "id": "ByT5JBcVnPov"
      },
      "source": [
        "##  Assembly: working from scratch\n",
        "\n",
        "\n",
        "\n",
        "### Denovo assembly\n",
        "\n",
        "![image](https://user-images.githubusercontent.com/20909751/100520200-928de800-316a-11eb-9916-fe6966b7e7c6.png)\n",
        "\n"
      ]
    },
    {
      "cell_type": "markdown",
      "metadata": {
        "id": "SX5n-J47oKOQ"
      },
      "source": [
        "Coverage\n",
        "\n",
        "![image](https://user-images.githubusercontent.com/20909751/100520265-ec8ead80-316a-11eb-9b13-db76e4b0ce0e.png)\n"
      ]
    },
    {
      "cell_type": "markdown",
      "metadata": {
        "id": "bbNwGn4spAfA"
      },
      "source": [
        "Average coverage\n"
      ]
    },
    {
      "cell_type": "markdown",
      "metadata": {
        "id": "S5LF0oV_qKeR"
      },
      "source": [
        "* First law of assembly\n",
        "\n",
        "If a suffix of read A is smilar to prefix of read B, then A and B might overlap in the genome\n",
        "\n",
        "* Second law of assembly\n",
        "\n",
        "More coverage leads to more and long overlaps\n"
      ]
    },
    {
      "cell_type": "markdown",
      "metadata": {
        "id": "85uG8QBOqKst"
      },
      "source": [
        "### Practical: Overlaps between pairs of reads\n"
      ]
    },
    {
      "cell_type": "code",
      "metadata": {
        "id": "WY3KpTajs3yO"
      },
      "source": [
        "def overlap(a, b, min_length=3):\n",
        "    \"\"\"\n",
        "\n",
        "    \"\"\"\n",
        "    start = 0\n",
        "    while True:\n",
        "        start = a.find(b[:min_length], start)\n",
        "        if start == -1:\n",
        "            return 0\n",
        "        if b.startswith(a[start:]):\n",
        "            return len(a) - start\n",
        "        start += 1\n",
        "\n"
      ],
      "execution_count": 1,
      "outputs": []
    },
    {
      "cell_type": "code",
      "metadata": {
        "colab": {
          "base_uri": "https://localhost:8080/"
        },
        "id": "GA7-1sq2tzSQ",
        "outputId": "7de7b1f9-51a8-4c2d-f765-c02a69e34521"
      },
      "source": [
        "## Overlap with 3 letters\n",
        "overlap(\"TTACGT\", \"CGTACCGT\")"
      ],
      "execution_count": 2,
      "outputs": [
        {
          "output_type": "execute_result",
          "data": {
            "text/plain": [
              "3"
            ]
          },
          "metadata": {
            "tags": []
          },
          "execution_count": 2
        }
      ]
    },
    {
      "cell_type": "code",
      "metadata": {
        "colab": {
          "base_uri": "https://localhost:8080/"
        },
        "id": "fiH1Z2Eat6-2",
        "outputId": "4bcc5d59-e2d3-4c5c-e50c-4416ee7bf8ee"
      },
      "source": [
        "## Overlap with two letters\n",
        "\n",
        "overlap(\"TTACGT\", \"GTACCGT\")"
      ],
      "execution_count": 3,
      "outputs": [
        {
          "output_type": "execute_result",
          "data": {
            "text/plain": [
              "0"
            ]
          },
          "metadata": {
            "tags": []
          },
          "execution_count": 3
        }
      ]
    },
    {
      "cell_type": "markdown",
      "metadata": {
        "id": "mwLOEafhuK2L"
      },
      "source": [
        "### Practical: Finding and representing all overlaps\n",
        "\n"
      ]
    },
    {
      "cell_type": "code",
      "metadata": {
        "colab": {
          "base_uri": "https://localhost:8080/"
        },
        "id": "s1bsEKl8u156",
        "outputId": "e9f7ac57-fcd8-478b-9fa1-a766acb608ac"
      },
      "source": [
        "from itertools import permutations\n",
        "list(permutations([1,2,3], 3))"
      ],
      "execution_count": 4,
      "outputs": [
        {
          "output_type": "execute_result",
          "data": {
            "text/plain": [
              "[(1, 2, 3), (1, 3, 2), (2, 1, 3), (2, 3, 1), (3, 1, 2), (3, 2, 1)]"
            ]
          },
          "metadata": {
            "tags": []
          },
          "execution_count": 4
        }
      ]
    },
    {
      "cell_type": "code",
      "metadata": {
        "id": "QNLJrDWsvBC7"
      },
      "source": [
        "def naive_overlap_map(reads, k):\n",
        "    olaps = {}\n",
        "    for a, b in permutations(reads, 2):\n",
        "      olen = overlap(a, b, min_length=k)\n",
        "      if olen > 0:\n",
        "          olaps[(a, b)] = olen\n",
        "    return olaps\n"
      ],
      "execution_count": 7,
      "outputs": []
    },
    {
      "cell_type": "code",
      "metadata": {
        "colab": {
          "base_uri": "https://localhost:8080/"
        },
        "id": "apkXqTjNvjmO",
        "outputId": "96bf2894-0f89-47e2-899d-e35f3aab0e24"
      },
      "source": [
        "reads = ['ACGGACGATC', \"GATCAAGT\", \"TTCACGGA\"]\n",
        "print(naive_overlap_map(reads, 3))"
      ],
      "execution_count": 8,
      "outputs": [
        {
          "output_type": "stream",
          "text": [
            "{('ACGGACGATC', 'GATCAAGT'): 4, ('TTCACGGA', 'ACGGACGATC'): 5}\n"
          ],
          "name": "stdout"
        }
      ]
    },
    {
      "cell_type": "markdown",
      "metadata": {
        "id": "AKyTvs91wDYm"
      },
      "source": [
        "# Week 4\n"
      ]
    },
    {
      "cell_type": "markdown",
      "metadata": {
        "id": "RQX4HMJIwzyj"
      },
      "source": [
        "## The shortest common superstring problem\n",
        "\n",
        "Given as a set of strings __*S*__, find SCS (S): shortest string contaming the strings in __*S*__ "
      ]
    },
    {
      "cell_type": "code",
      "metadata": {
        "id": "jzfYPShuQCi2"
      },
      "source": [
        ""
      ],
      "execution_count": null,
      "outputs": []
    },
    {
      "cell_type": "markdown",
      "metadata": {
        "id": "PZYmth1zQDEG"
      },
      "source": [
        "Idea: pick order for strings in __*S*__ and construct superstring.\n",
        "\n",
        "Try all posible orderings and pcik shorted superstring\n",
        "\n",
        "If $S$ contains $n$ strings, $n!$ (n factoirial) orderings possible. \n",
        "\n",
        "So n factorial is a quantity that grows very quickly as $n$ grows. As the number of input strings grows, the amount of work that we have to do, the amount of permutations we have to try grows very, very rapidly. That's why we call this problem an intractable problem. "
      ]
    },
    {
      "cell_type": "code",
      "metadata": {
        "id": "ppYtapV4wGx5"
      },
      "source": [
        "\n",
        "import itertools\n",
        "\n",
        "def scs(ss):\n",
        "    \"\"\"\n",
        "    brute force method????\n",
        "    Returns shortest common superstring of given strings,\n",
        "    assuming no string is a strict substring of another \n",
        "    \"\"\"\n",
        "    shortest_sup = None\n",
        "    ## return every possible orders\n",
        "    for ssperm in itertools.permutations(ss):\n",
        "        sup = ssperm[0]\n",
        "        for i in range(len(ss)-1):\n",
        "            olen = overlap(ssperm[i], ssperm[i+1], min_length=1)\n",
        "            sup += ssperm[i+1][olen:]\n",
        "        if shortest_sup is None or len(sup) < len(shortest_sup):\n",
        "            shortest_sup = sup\n",
        "    return shortest_sup"
      ],
      "execution_count": 9,
      "outputs": []
    },
    {
      "cell_type": "code",
      "metadata": {
        "colab": {
          "base_uri": "https://localhost:8080/",
          "height": 35
        },
        "id": "6No48hCQPfUG",
        "outputId": "5be848d7-0369-46ba-c9af-7cc0981559bc"
      },
      "source": [
        "scs(['ACGGATGAGC', 'GAGCGGA', 'GAGCGAG'])"
      ],
      "execution_count": 11,
      "outputs": [
        {
          "output_type": "execute_result",
          "data": {
            "application/vnd.google.colaboratory.intrinsic+json": {
              "type": "string"
            },
            "text/plain": [
              "'ACGGATGAGCGAGCGGA'"
            ]
          },
          "metadata": {
            "tags": []
          },
          "execution_count": 11
        }
      ]
    },
    {
      "cell_type": "markdown",
      "metadata": {
        "id": "CuWq8EWcWDD0"
      },
      "source": [
        "###  Greedy shortest common superstring\n",
        "\n",
        "Picking the longest overlap seems to make sense because the longer the overlaps between the strings, the shorter the final string will be. So that's what we mean by greedy algorithm in this case. \n",
        "\n",
        "The greedy alogrith doesn't always give the correct results. \n"
      ]
    },
    {
      "cell_type": "code",
      "metadata": {
        "id": "K6QyV33RYYAV"
      },
      "source": [
        "import itertools\n",
        "def pick_maximal_overlap(reads, k):\n",
        "    reada, readb = None, None\n",
        "    best_olen = 0\n",
        "    for a, b in itertools.permutations(reads, 2):\n",
        "        olen = overlap(a, b, min_length=k)\n",
        "        # There might be multiple pairs that are tied for the maximal overlap length\n",
        "        if olen > best_olen:\n",
        "            reada, readb = a, b\n",
        "            best_olen = olen\n",
        "    return reada, readb, best_olen\n",
        "\n",
        "def greedy_scs(reads, k):\n",
        "    readA, readB, olen = pick_maximal_overlap(reads, k)\n",
        "    while olen > 0:\n",
        "        reads.remove(readA)\n",
        "        reads.remove(readB)\n",
        "        reads.append(readA+readB[olen:])\n",
        "        readA, readB, olen = pick_maximal_overlap(reads, k)\n",
        "    # we merge and merge and merge we might get to the point where there are no\n",
        "    # more edges, no more overlaps left in the overlap graph, but there are still \n",
        "    #multiple nodes left, in which case we can just concatenate the node labels \n",
        "    # together to get our super string. \n",
        "    return ''.join(reads)"
      ],
      "execution_count": 20,
      "outputs": []
    },
    {
      "cell_type": "code",
      "metadata": {
        "colab": {
          "base_uri": "https://localhost:8080/",
          "height": 35
        },
        "id": "tSFxVYafa28v",
        "outputId": "22489ac2-4b03-40f1-a5dc-fdc68e7ce9d5"
      },
      "source": [
        "greedy_scs(['ABC', \"BCA\", \"CAB\"], 2)"
      ],
      "execution_count": 21,
      "outputs": [
        {
          "output_type": "execute_result",
          "data": {
            "application/vnd.google.colaboratory.intrinsic+json": {
              "type": "string"
            },
            "text/plain": [
              "'CABCA'"
            ]
          },
          "metadata": {
            "tags": []
          },
          "execution_count": 21
        }
      ]
    },
    {
      "cell_type": "code",
      "metadata": {
        "colab": {
          "base_uri": "https://localhost:8080/",
          "height": 35
        },
        "id": "RKg8GtiNbOPv",
        "outputId": "18143bff-f484-4a3c-acc0-2a5864d3f73e"
      },
      "source": [
        "greedy_scs(['ABCD', \"CDBC\", \"BCDA\"], 1)"
      ],
      "execution_count": 22,
      "outputs": [
        {
          "output_type": "execute_result",
          "data": {
            "application/vnd.google.colaboratory.intrinsic+json": {
              "type": "string"
            },
            "text/plain": [
              "'CDBCABCDA'"
            ]
          },
          "metadata": {
            "tags": []
          },
          "execution_count": 22
        }
      ]
    },
    {
      "cell_type": "code",
      "metadata": {
        "colab": {
          "base_uri": "https://localhost:8080/",
          "height": 35
        },
        "id": "BG9__UEvbYoA",
        "outputId": "a441988d-921a-41e7-e308-e875ec42d7f2"
      },
      "source": [
        "# Let's run it with the brute force method and see what the best one for that is. \n",
        "# So you can see on this that the shortest common superstring is actually shorter \n",
        "# than the Greedy superstring, and the reason for this is to get the shortest common\n",
        "# superstring, you can just combine these reads in order, and each one overlaps by \n",
        "# two with the one after it. \n",
        "# But the first string and the third string actually overlap by three. So the Greedy \n",
        "# algorithm will initially merge those two together into a larger string, and \n",
        "# then it has no option but to just append the middle string to the end since it doesn't \n",
        "# have any overlap. \n",
        "# So it actually does a bit worse by doing the Greedy method here. #\n",
        "# But that trade-off in terms of accuracy, in most cases, will be worth the time \n",
        "# you save by doing the Greedy method right? \n",
        "\n",
        "scs(['ABCD', \"CDBC\", \"BCDA\"])"
      ],
      "execution_count": 25,
      "outputs": [
        {
          "output_type": "execute_result",
          "data": {
            "application/vnd.google.colaboratory.intrinsic+json": {
              "type": "string"
            },
            "text/plain": [
              "'ABCDBCDA'"
            ]
          },
          "metadata": {
            "tags": []
          },
          "execution_count": 25
        }
      ]
    },
    {
      "cell_type": "markdown",
      "metadata": {
        "id": "AgQ9LhUqb-4y"
      },
      "source": [
        "### Third law of assembly: repeats are bad\n",
        "\n",
        "Repetitive sequences can make it difficult or even impossible to correctly assemble the original genome. Repetitive sequences cause ambiguity, and just like if you're trying to put together a puzzle and the puzzle is like half featureless sky pieces, just like in that case, it's not always going to be easy or possible to resolve the ambiguity. So the third law of assembly states, repeats make assembly difficult. \n",
        "\n",
        "called the de Bruijn graph and the Eulerian walk method.\n",
        "Play video starting at :5:31 and follow transcript5:31\n",
        "That's an alternative that actually avoids the over collapsing problem. So it avoids this particular problem. But it still can't avoid the overall problem that repeats make assembly difficult. And in another later lecture, we'll see how real assembly software deals with this issue. And then in another lecture, we'll look a bit closer at whether new sequencing technologies might be able to help us sidestep this problem.\n",
        "\n",
        "\n"
      ]
    },
    {
      "cell_type": "markdown",
      "metadata": {
        "id": "dJJFbPYndecM"
      },
      "source": [
        "### Building a De Bruijn graph\n"
      ]
    },
    {
      "cell_type": "code",
      "metadata": {
        "id": "HHEgNQoRdbu3"
      },
      "source": [
        "def de_bruijn_ize(st, k):\n",
        "    edges = []\n",
        "    nodes = set()\n",
        "    for i in range(len(st) - k +1 ):\n",
        "      edges.append((st[i:i+k-1], st[i+1:i+k]))\n",
        "      nodes.add(st[i:i+k-1])\n",
        "      nodes.add(st[i+1:i+k])\n",
        "    return nodes, edges  "
      ],
      "execution_count": 54,
      "outputs": []
    },
    {
      "cell_type": "code",
      "metadata": {
        "colab": {
          "base_uri": "https://localhost:8080/"
        },
        "id": "2aDulQSZeQ3E",
        "outputId": "ecd9c245-836c-4cb4-9c5d-d81f5ee52cef"
      },
      "source": [
        "nodes, edges = de_bruijn_ize(\"ACGCGTCG\", 3)\n",
        "print(nodes)\n",
        "print(edges)"
      ],
      "execution_count": 55,
      "outputs": [
        {
          "output_type": "stream",
          "text": [
            "{'GT', 'CG', 'AC', 'TC', 'GC'}\n",
            "[('AC', 'CG'), ('CG', 'GC'), ('GC', 'CG'), ('CG', 'GT'), ('GT', 'TC'), ('TC', 'CG')]\n"
          ],
          "name": "stdout"
        }
      ]
    },
    {
      "cell_type": "code",
      "metadata": {
        "id": "m3SsfQ_dez6X"
      },
      "source": [
        "def visualize_de_bruijn(st, k):\n",
        "    \"\"\" Visualize a directed multigraph using graphviz \"\"\"\n",
        "    nodes, edges = de_bruijn_ize(st, k)\n",
        "    dot_str = 'digraph \"DeBruijn graph\" {\\n'\n",
        "    for node in nodes:\n",
        "        dot_str += '  %s [label=\"%s\"] ;\\n' % (node, node)\n",
        "    for src, dst in edges:\n",
        "        dot_str += '  %s -> %s ;\\n' % (src, dst)\n",
        "    return dot_str + '}\\n'"
      ],
      "execution_count": 56,
      "outputs": []
    },
    {
      "cell_type": "code",
      "metadata": {
        "colab": {
          "base_uri": "https://localhost:8080/"
        },
        "id": "Qs-UgYzbfVt1",
        "outputId": "bab9d80d-d2ec-4e7a-ff08-41c4c0e58704"
      },
      "source": [
        "!pip install gvmagic"
      ],
      "execution_count": 37,
      "outputs": [
        {
          "output_type": "stream",
          "text": [
            "Collecting gvmagic\n",
            "  Downloading https://files.pythonhosted.org/packages/f7/f8/725b48babca08b58e863bd6f2335641578874c795c5936f8aba1802b74a9/gvmagic-0.5.tar.gz\n",
            "Building wheels for collected packages: gvmagic\n",
            "  Building wheel for gvmagic (setup.py) ... \u001b[?25l\u001b[?25hdone\n",
            "  Created wheel for gvmagic: filename=gvmagic-0.5-cp36-none-any.whl size=10376 sha256=7fb1c81be490dd75f352c746c2262a40f7dfaa2e900fb6404279d41044c1d391\n",
            "  Stored in directory: /root/.cache/pip/wheels/f6/67/1f/64d62350d4cffe0a94e39af37828a6a5bfba1b9b9d6d95dbf8\n",
            "Successfully built gvmagic\n",
            "Installing collected packages: gvmagic\n",
            "Successfully installed gvmagic-0.5\n"
          ],
          "name": "stdout"
        }
      ]
    },
    {
      "cell_type": "code",
      "metadata": {
        "id": "ACCCFZNTfWow"
      },
      "source": [
        "%load_ext gvmagic"
      ],
      "execution_count": null,
      "outputs": []
    },
    {
      "cell_type": "code",
      "metadata": {
        "colab": {
          "base_uri": "https://localhost:8080/",
          "height": 368
        },
        "id": "jaBVCYEVe0At",
        "outputId": "2c5a1d04-f48b-40fe-80b6-d1f351a75e06"
      },
      "source": [
        "%dotstr visualize_de_bruijn(\"ACGCGTCG\", 3)\n"
      ],
      "execution_count": 57,
      "outputs": [
        {
          "output_type": "display_data",
          "data": {
            "text/plain": [
              "<IPython.core.display.SVG object>"
            ],
            "image/svg+xml": "<svg height=\"260pt\" viewBox=\"0.00 0.00 172.00 260.00\" width=\"172pt\" xmlns=\"http://www.w3.org/2000/svg\" xmlns:xlink=\"http://www.w3.org/1999/xlink\">\n<g class=\"graph\" id=\"graph0\" transform=\"scale(1 1) rotate(0) translate(4 256)\">\n<title>DeBruijn graph</title>\n<polygon fill=\"#ffffff\" points=\"-4,4 -4,-256 168,-256 168,4 -4,4\" stroke=\"transparent\"/>\n<!-- GT -->\n<g class=\"node\" id=\"node1\">\n<title>GT</title>\n<ellipse cx=\"54\" cy=\"-234\" fill=\"none\" rx=\"27\" ry=\"18\" stroke=\"#000000\"/>\n<text fill=\"#000000\" font-family=\"Times,serif\" font-size=\"14.00\" text-anchor=\"middle\" x=\"54\" y=\"-230.3\">GT</text>\n</g>\n<!-- TC -->\n<g class=\"node\" id=\"node4\">\n<title>TC</title>\n<ellipse cx=\"27\" cy=\"-162\" fill=\"none\" rx=\"27\" ry=\"18\" stroke=\"#000000\"/>\n<text fill=\"#000000\" font-family=\"Times,serif\" font-size=\"14.00\" text-anchor=\"middle\" x=\"27\" y=\"-158.3\">TC</text>\n</g>\n<!-- GT&#45;&gt;TC -->\n<g class=\"edge\" id=\"edge5\">\n<title>GT-&gt;TC</title>\n<path d=\"M47.3258,-216.2022C44.2524,-208.0064 40.5384,-198.1024 37.1305,-189.0145\" fill=\"none\" stroke=\"#000000\"/>\n<polygon fill=\"#000000\" points=\"40.3858,-187.7274 33.5974,-179.593 33.8315,-190.1853 40.3858,-187.7274\" stroke=\"#000000\"/>\n</g>\n<!-- CG -->\n<g class=\"node\" id=\"node2\">\n<title>CG</title>\n<ellipse cx=\"82\" cy=\"-90\" fill=\"none\" rx=\"27\" ry=\"18\" stroke=\"#000000\"/>\n<text fill=\"#000000\" font-family=\"Times,serif\" font-size=\"14.00\" text-anchor=\"middle\" x=\"82\" y=\"-86.3\">CG</text>\n</g>\n<!-- CG&#45;&gt;GT -->\n<g class=\"edge\" id=\"edge4\">\n<title>CG-&gt;GT</title>\n<path d=\"M78.4664,-108.1727C73.6642,-132.8697 65.0329,-177.2595 59.4117,-206.1684\" fill=\"none\" stroke=\"#000000\"/>\n<polygon fill=\"#000000\" points=\"55.9627,-205.5692 57.4896,-216.0535 62.834,-206.9054 55.9627,-205.5692\" stroke=\"#000000\"/>\n</g>\n<!-- GC -->\n<g class=\"node\" id=\"node5\">\n<title>GC</title>\n<ellipse cx=\"82\" cy=\"-18\" fill=\"none\" rx=\"27\" ry=\"18\" stroke=\"#000000\"/>\n<text fill=\"#000000\" font-family=\"Times,serif\" font-size=\"14.00\" text-anchor=\"middle\" x=\"82\" y=\"-14.3\">GC</text>\n</g>\n<!-- CG&#45;&gt;GC -->\n<g class=\"edge\" id=\"edge2\">\n<title>CG-&gt;GC</title>\n<path d=\"M76.0843,-72.2022C75.2798,-64.1807 75.0571,-54.5231 75.4162,-45.5957\" fill=\"none\" stroke=\"#000000\"/>\n<polygon fill=\"#000000\" points=\"78.9097,-45.8099 76.105,-35.593 71.9262,-45.3289 78.9097,-45.8099\" stroke=\"#000000\"/>\n</g>\n<!-- AC -->\n<g class=\"node\" id=\"node3\">\n<title>AC</title>\n<ellipse cx=\"137\" cy=\"-162\" fill=\"none\" rx=\"27\" ry=\"18\" stroke=\"#000000\"/>\n<text fill=\"#000000\" font-family=\"Times,serif\" font-size=\"14.00\" text-anchor=\"middle\" x=\"137\" y=\"-158.3\">AC</text>\n</g>\n<!-- AC&#45;&gt;CG -->\n<g class=\"edge\" id=\"edge1\">\n<title>AC-&gt;CG</title>\n<path d=\"M124.5196,-145.6621C117.4876,-136.4564 108.5653,-124.7764 100.7117,-114.4953\" fill=\"none\" stroke=\"#000000\"/>\n<polygon fill=\"#000000\" points=\"103.2828,-112.0953 94.431,-106.2733 97.72,-116.3446 103.2828,-112.0953\" stroke=\"#000000\"/>\n</g>\n<!-- TC&#45;&gt;CG -->\n<g class=\"edge\" id=\"edge6\">\n<title>TC-&gt;CG</title>\n<path d=\"M39.4804,-145.6621C46.5124,-136.4564 55.4347,-124.7764 63.2883,-114.4953\" fill=\"none\" stroke=\"#000000\"/>\n<polygon fill=\"#000000\" points=\"66.28,-116.3446 69.569,-106.2733 60.7172,-112.0953 66.28,-116.3446\" stroke=\"#000000\"/>\n</g>\n<!-- GC&#45;&gt;CG -->\n<g class=\"edge\" id=\"edge3\">\n<title>GC-&gt;CG</title>\n<path d=\"M87.895,-35.593C88.7094,-43.5865 88.942,-53.2363 88.5928,-62.1759\" fill=\"none\" stroke=\"#000000\"/>\n<polygon fill=\"#000000\" points=\"85.0976,-61.9891 87.9157,-72.2022 92.0817,-62.4608 85.0976,-61.9891\" stroke=\"#000000\"/>\n</g>\n</g>\n</svg>"
          },
          "metadata": {
            "tags": []
          }
        }
      ]
    },
    {
      "cell_type": "code",
      "metadata": {
        "colab": {
          "base_uri": "https://localhost:8080/",
          "height": 368
        },
        "id": "jnDVDdrvez-D",
        "outputId": "7b65fd00-8ffc-4d7c-86eb-23846297123b"
      },
      "source": [
        "%dotstr visualize_de_bruijn(\"AAABBBBA\", 3)\n"
      ],
      "execution_count": 58,
      "outputs": [
        {
          "output_type": "display_data",
          "data": {
            "text/plain": [
              "<IPython.core.display.SVG object>"
            ],
            "image/svg+xml": "<svg height=\"260pt\" viewBox=\"0.00 0.00 98.00 260.00\" width=\"98pt\" xmlns=\"http://www.w3.org/2000/svg\" xmlns:xlink=\"http://www.w3.org/1999/xlink\">\n<g class=\"graph\" id=\"graph0\" transform=\"scale(1 1) rotate(0) translate(4 256)\">\n<title>DeBruijn graph</title>\n<polygon fill=\"#ffffff\" points=\"-4,4 -4,-256 94,-256 94,4 -4,4\" stroke=\"transparent\"/>\n<!-- BB -->\n<g class=\"node\" id=\"node1\">\n<title>BB</title>\n<ellipse cx=\"27\" cy=\"-90\" fill=\"none\" rx=\"27\" ry=\"18\" stroke=\"#000000\"/>\n<text fill=\"#000000\" font-family=\"Times,serif\" font-size=\"14.00\" text-anchor=\"middle\" x=\"27\" y=\"-86.3\">BB</text>\n</g>\n<!-- BB&#45;&gt;BB -->\n<g class=\"edge\" id=\"edge4\">\n<title>BB-&gt;BB</title>\n<path d=\"M52.4435,-96.6907C63.0278,-97.1521 72,-94.9219 72,-90 72,-86.77 68.136,-84.6992 62.4881,-83.7876\" fill=\"none\" stroke=\"#000000\"/>\n<polygon fill=\"#000000\" points=\"62.5987,-80.289 52.4435,-83.3093 62.2656,-87.2811 62.5987,-80.289\" stroke=\"#000000\"/>\n</g>\n<!-- BB&#45;&gt;BB -->\n<g class=\"edge\" id=\"edge5\">\n<title>BB-&gt;BB</title>\n<path d=\"M48.6268,-101.0075C68.5379,-106.5363 90,-102.8672 90,-90 90,-79.2438 75.0025,-74.9152 58.4504,-77.014\" fill=\"none\" stroke=\"#000000\"/>\n<polygon fill=\"#000000\" points=\"57.7389,-73.587 48.6268,-78.9925 59.1211,-80.4492 57.7389,-73.587\" stroke=\"#000000\"/>\n</g>\n<!-- BA -->\n<g class=\"node\" id=\"node4\">\n<title>BA</title>\n<ellipse cx=\"27\" cy=\"-18\" fill=\"none\" rx=\"27\" ry=\"18\" stroke=\"#000000\"/>\n<text fill=\"#000000\" font-family=\"Times,serif\" font-size=\"14.00\" text-anchor=\"middle\" x=\"27\" y=\"-14.3\">BA</text>\n</g>\n<!-- BB&#45;&gt;BA -->\n<g class=\"edge\" id=\"edge6\">\n<title>BB-&gt;BA</title>\n<path d=\"M27,-71.8314C27,-64.131 27,-54.9743 27,-46.4166\" fill=\"none\" stroke=\"#000000\"/>\n<polygon fill=\"#000000\" points=\"30.5001,-46.4132 27,-36.4133 23.5001,-46.4133 30.5001,-46.4132\" stroke=\"#000000\"/>\n</g>\n<!-- AA -->\n<g class=\"node\" id=\"node2\">\n<title>AA</title>\n<ellipse cx=\"27\" cy=\"-234\" fill=\"none\" rx=\"27\" ry=\"18\" stroke=\"#000000\"/>\n<text fill=\"#000000\" font-family=\"Times,serif\" font-size=\"14.00\" text-anchor=\"middle\" x=\"27\" y=\"-230.3\">AA</text>\n</g>\n<!-- AA&#45;&gt;AA -->\n<g class=\"edge\" id=\"edge1\">\n<title>AA-&gt;AA</title>\n<path d=\"M46.895,-246.4321C59.688,-249.6753 72,-245.5313 72,-234 72,-225.6218 65.5006,-221.1433 57.0395,-220.5644\" fill=\"none\" stroke=\"#000000\"/>\n<polygon fill=\"#000000\" points=\"56.5019,-217.1004 46.895,-221.5679 57.191,-224.0665 56.5019,-217.1004\" stroke=\"#000000\"/>\n</g>\n<!-- AB -->\n<g class=\"node\" id=\"node3\">\n<title>AB</title>\n<ellipse cx=\"27\" cy=\"-162\" fill=\"none\" rx=\"27\" ry=\"18\" stroke=\"#000000\"/>\n<text fill=\"#000000\" font-family=\"Times,serif\" font-size=\"14.00\" text-anchor=\"middle\" x=\"27\" y=\"-158.3\">AB</text>\n</g>\n<!-- AA&#45;&gt;AB -->\n<g class=\"edge\" id=\"edge2\">\n<title>AA-&gt;AB</title>\n<path d=\"M27,-215.8314C27,-208.131 27,-198.9743 27,-190.4166\" fill=\"none\" stroke=\"#000000\"/>\n<polygon fill=\"#000000\" points=\"30.5001,-190.4132 27,-180.4133 23.5001,-190.4133 30.5001,-190.4132\" stroke=\"#000000\"/>\n</g>\n<!-- AB&#45;&gt;BB -->\n<g class=\"edge\" id=\"edge3\">\n<title>AB-&gt;BB</title>\n<path d=\"M27,-143.8314C27,-136.131 27,-126.9743 27,-118.4166\" fill=\"none\" stroke=\"#000000\"/>\n<polygon fill=\"#000000\" points=\"30.5001,-118.4132 27,-108.4133 23.5001,-118.4133 30.5001,-118.4132\" stroke=\"#000000\"/>\n</g>\n</g>\n</svg>"
          },
          "metadata": {
            "tags": []
          }
        }
      ]
    },
    {
      "cell_type": "markdown",
      "metadata": {
        "id": "O14WAvsVQ9w3"
      },
      "source": [
        "# Reference\n",
        "\n",
        "\n",
        "https://github.com/sidsriv/Algorithms-for-DNA-sequencing\n",
        "\n",
        "https://github.com/pejvan/Algorithms-for-DNA-Sequencing\n",
        "\n",
        "https://github.com/claytonjwong/Algorithms-DNA-Sequencing\n",
        "\n",
        "https://github.com/kritikadusad/AlgorithmsForDNASequencing\n",
        "\n",
        "https://www.sciencedirect.com/science/article/abs/pii/S0377221716304830\n",
        "\n",
        "Dimitri J. 2020. Exact and approximation algorithms for DNA sequence reconstruction.\n",
        "\n",
        "Najam M, Rasool RU, Ahmad HF, Ashraf U, Malik AW. 2019. Pattern Matching for DNA Sequencing Data Using Multiple Bloom Filters. Biomed Res Int 2019. \n",
        "\n",
        "https://github.com/mrhua2019/Pattern-Matching-for-DNA-Sequencing-Data-using-Multiple-Bloom-Filters#readme\n",
        "\n",
        "Langmead B. 2557. ALGORITHMS AND HIGH PERFORMANCE COMPUTING APPROACHES FOR SEQUENCING-BASED COMPARATIVE GENOMICS. 7: 1–16. https://drum.lib.umd.edu/handle/1903/12569.\n"
      ]
    }
  ]
}